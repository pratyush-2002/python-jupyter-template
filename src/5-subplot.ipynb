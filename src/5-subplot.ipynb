{
 "cells": [
  {
   "cell_type": "markdown",
   "metadata": {},
   "source": [
    "### Exercise 5: Subplot Layout"
   ]
  },
  {
   "cell_type": "code",
   "execution_count": null,
   "metadata": {},
   "outputs": [],
   "source": [
    "# TASK: Create a 2x2 subplot layout.\n",
    "# Plot a line chart in the first subplot, a bar chart in the second, a scatter plot in the third, and a pie chart in the fourth.\n",
    "import matplotlib.pyplot as plt\n",
    "import numpy as np\n",
    "\n",
    "# Data for plots\n",
    "x = np.linspace(0, 10, 100)\n",
    "y = x**2  # Line plot data\n",
    "\n",
    "categories = ['A', 'B', 'C', 'D']\n",
    "values = [5, 7, 3, 9]  # Bar chart data\n",
    "\n",
    "x_scatter = [1, 2, 3, 4, 5]\n",
    "y_scatter = [2, 4, 6, 8, 10]  # Scatter plot data\n",
    "\n",
    "labels = ['Python', 'Java', 'C++', 'JavaScript']\n",
    "sizes = [40, 25, 20, 15]  # Pie chart data\n",
    "\n",
    "# Create a 2x2 subplot layout\n",
    "fig, axes = plt.subplots(2, 2, figsize=(10, 8))\n",
    "\n",
    "# Line chart (Top-left)\n",
    "axes[0, 0].plot(x, y, color='blue', linewidth=2)\n",
    "axes[0, 0].set_title(\"Line Chart\")\n",
    "axes[0, 0].set_xlabel(\"X values\")\n",
    "axes[0, 0].set_ylabel(\"Y = X^2\")\n",
    "axes[0, 0].grid(True, linestyle='--', alpha=0.6)\n",
    "\n",
    "# Bar chart (Top-right)\n",
    "axes[0, 1].bar(categories, values, color=['red', 'blue', 'green', 'purple'])\n",
    "axes[0, 1].set_title(\"Bar Chart\")\n",
    "axes[0, 1].set_xlabel(\"Categories\")\n",
    "axes[0, 1].set_ylabel(\"Values\")\n",
    "axes[0, 1].grid(axis='y', linestyle='--', alpha=0.6)\n",
    "\n",
    "# Scatter plot (Bottom-left)\n",
    "axes[1, 0].scatter(x_scatter, y_scatter, color='blue', marker='o')\n",
    "axes[1, 0].set_title(\"Scatter Plot\")\n",
    "axes[1, 0].set_xlabel(\"X values\")\n",
    "axes[1, 0].s\n"
   ]
  }
 ],
 "metadata": {
  "language_info": {
   "name": "python"
  }
 },
 "nbformat": 4,
 "nbformat_minor": 2
}
